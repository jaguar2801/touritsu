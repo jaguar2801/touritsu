{
 "cells": [
  {
   "cell_type": "code",
   "execution_count": 2,
   "metadata": {},
   "outputs": [
    {
     "name": "stdout",
     "output_type": "stream",
     "text": [
      "Collecting mediapipe\n",
      "  Downloading mediapipe-0.8.4.2-cp38-cp38-macosx_10_15_x86_64.whl (36.7 MB)\n",
      "\u001b[K     |████████████████████████████████| 36.7 MB 5.2 MB/s eta 0:00:01    |██████▋                         | 7.5 MB 9.4 MB/s eta 0:00:044.2 MB/s eta 0:00:03     |███████████████████████▊        | 27.3 MB 5.3 MB/s eta 0:00:02     |██████████████████████████▍     | 30.2 MB 5.3 MB/s eta 0:00:02\n",
      "\u001b[?25hRequirement already satisfied: numpy in /Users/jaguar2801/opt/anaconda3/lib/python3.8/site-packages (from mediapipe) (1.18.5)\n",
      "Collecting opencv-contrib-python\n",
      "  Downloading opencv_contrib_python-4.5.2.52-cp38-cp38-macosx_10_15_x86_64.whl (53.7 MB)\n",
      "\u001b[K     |████████████████████████████████| 53.7 MB 44 kB/s  eta 0:00:013   |▊                               | 1.2 MB 5.7 MB/s eta 0:00:10     |███████████████████████▊        | 39.8 MB 2.8 MB/s eta 0:00:05     |█████████████████████████▌      | 42.9 MB 33 kB/s eta 0:05:23     |██████████████████████████▏     | 43.9 MB 33 kB/s eta 0:04:54     |██████████████████████████▌     | 44.6 MB 33 kB/s eta 0:04:33     |████████████████████████████▌   | 47.9 MB 2.7 MB/s eta 0:00:03\n",
      "\u001b[?25hRequirement already satisfied: attrs>=19.1.0 in /Users/jaguar2801/opt/anaconda3/lib/python3.8/site-packages (from mediapipe) (20.3.0)\n",
      "Requirement already satisfied: absl-py in /Users/jaguar2801/opt/anaconda3/lib/python3.8/site-packages (from mediapipe) (0.11.0)\n",
      "Requirement already satisfied: protobuf>=3.11.4 in /Users/jaguar2801/opt/anaconda3/lib/python3.8/site-packages (from mediapipe) (3.14.0)\n",
      "Requirement already satisfied: six in /Users/jaguar2801/opt/anaconda3/lib/python3.8/site-packages (from mediapipe) (1.15.0)\n",
      "Requirement already satisfied: wheel in /Users/jaguar2801/opt/anaconda3/lib/python3.8/site-packages (from mediapipe) (0.35.1)\n",
      "Installing collected packages: opencv-contrib-python, mediapipe\n",
      "Successfully installed mediapipe-0.8.4.2 opencv-contrib-python-4.5.2.52\n",
      "\u001b[33mWARNING: You are using pip version 21.0.1; however, version 21.1.1 is available.\n",
      "You should consider upgrading via the '/Users/jaguar2801/opt/anaconda3/bin/python -m pip install --upgrade pip' command.\u001b[0m\n"
     ]
    }
   ],
   "source": [
    "!pip install mediapipe"
   ]
  },
  {
   "cell_type": "code",
   "execution_count": 3,
   "metadata": {},
   "outputs": [
    {
     "name": "stdout",
     "output_type": "stream",
     "text": [
      "Cloning into 'mediapipe-python-sample'...\n",
      "remote: Enumerating objects: 115, done.\u001b[K\n",
      "remote: Counting objects: 100% (115/115), done.\u001b[K\n",
      "remote: Compressing objects: 100% (93/93), done.\u001b[K\n",
      "remote: Total 115 (delta 69), reused 42 (delta 19), pack-reused 0\u001b[K\n",
      "Receiving objects: 100% (115/115), 34.06 KiB | 942.00 KiB/s, done.\n",
      "Resolving deltas: 100% (69/69), done.\n"
     ]
    }
   ],
   "source": [
    "!git clone https://github.com/Kazuhito00/mediapipe-python-sample.git"
   ]
  },
  {
   "cell_type": "code",
   "execution_count": 4,
   "metadata": {},
   "outputs": [
    {
     "data": {
      "text/plain": [
       "'/Users/jaguar2801/Desktop/Untitled Folder'"
      ]
     },
     "execution_count": 4,
     "metadata": {},
     "output_type": "execute_result"
    }
   ],
   "source": [
    "pwd"
   ]
  },
  {
   "cell_type": "code",
   "execution_count": 5,
   "metadata": {},
   "outputs": [
    {
     "name": "stdout",
     "output_type": "stream",
     "text": [
      "IMG_159209147.MOV        Untitled.ipynb\r\n",
      "IMG_18931963.MOV         \u001b[34mmediapipe-python-sample\u001b[m\u001b[m/\r\n"
     ]
    }
   ],
   "source": [
    "ls"
   ]
  },
  {
   "cell_type": "code",
   "execution_count": 6,
   "metadata": {},
   "outputs": [
    {
     "name": "stdout",
     "output_type": "stream",
     "text": [
      "/Users/jaguar2801/Desktop/Untitled Folder/mediapipe-python-sample\n"
     ]
    }
   ],
   "source": [
    "cd mediapipe-python-sample"
   ]
  },
  {
   "cell_type": "code",
   "execution_count": 7,
   "metadata": {
    "scrolled": false
   },
   "outputs": [
    {
     "name": "stdout",
     "output_type": "stream",
     "text": [
      "LICENSE                  sample_facemesh.py       sample_pose.py\r\n",
      "README.md                sample_hand.py           \u001b[34mutils\u001b[m\u001b[m/\r\n",
      "\u001b[34mold\u001b[m\u001b[m/                     sample_holistic.py\r\n",
      "sample_facedetection.py  sample_objectron.py\r\n"
     ]
    }
   ],
   "source": [
    "ls"
   ]
  },
  {
   "cell_type": "code",
   "execution_count": 23,
   "metadata": {},
   "outputs": [
    {
     "name": "stdout",
     "output_type": "stream",
     "text": [
      "OpenCV: FFMPEG: tag 0x5634504d/'MP4V' is not supported with codec id 12 and format 'mp4 / MP4 (MPEG-4 Part 14)'\n",
      "OpenCV: FFMPEG: fallback to use tag 0x7634706d/'mp4v'\n",
      "INFO: Created TensorFlow Lite XNNPACK delegate for CPU.\n",
      "INFO: Replacing 223 node(s) with delegate (TfLiteXNNPackDelegate) node, yielding 6 partitions.\n",
      "INFO: Replacing 318 node(s) with delegate (TfLiteXNNPackDelegate) node, yielding 1 partitions.\n"
     ]
    }
   ],
   "source": [
    "!python3 -m sample_pose"
   ]
  },
  {
   "cell_type": "code",
   "execution_count": null,
   "metadata": {},
   "outputs": [],
   "source": []
  },
  {
   "cell_type": "code",
   "execution_count": null,
   "metadata": {},
   "outputs": [],
   "source": []
  }
 ],
 "metadata": {
  "kernelspec": {
   "display_name": "Python 3",
   "language": "python",
   "name": "python3"
  },
  "language_info": {
   "codemirror_mode": {
    "name": "ipython",
    "version": 3
   },
   "file_extension": ".py",
   "mimetype": "text/x-python",
   "name": "python",
   "nbconvert_exporter": "python",
   "pygments_lexer": "ipython3",
   "version": "3.8.5"
  }
 },
 "nbformat": 4,
 "nbformat_minor": 4
}
